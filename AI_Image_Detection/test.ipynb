{
 "cells": [
  {
   "cell_type": "code",
   "execution_count": 11,
   "metadata": {},
   "outputs": [
    {
     "name": "stdout",
     "output_type": "stream",
     "text": [
      "AI Confidence: 0.00\n"
     ]
    }
   ],
   "source": [
    "import torch\n",
    "from torchvision import transforms\n",
    "from PIL import Image\n",
    "from timm import create_model\n",
    "from huggingface_hub import hf_hub_download\n",
    "\n",
    "# Parameters\n",
    "IMG_SIZE = 380\n",
    "DEVICE = torch.device(\"cuda\" if torch.cuda.is_available() else \"cpu\")\n",
    "# LABEL_MAPPING = {1: \"human\", 0: \"ai\"}\n",
    "LABEL_MAPPING = {1: \"real\", 0: \"ai\"}\n",
    "\n",
    "# Download model from HuggingFace Hub\n",
    "MODEL_PATH = hf_hub_download(repo_id=\"Dafilab/ai-image-detector\", filename=\"model_epoch_8_acc_0.9859.pth\")\n",
    "\n",
    "# Preprocessing\n",
    "transform = transforms.Compose([\n",
    "    transforms.Resize(IMG_SIZE + 20),\n",
    "    transforms.CenterCrop(IMG_SIZE),\n",
    "    transforms.ToTensor(),\n",
    "    transforms.Normalize(mean=[0.485, 0.456, 0.406], std=[0.229, 0.224, 0.225]),\n",
    "])\n",
    "\n",
    "# Load model\n",
    "model = create_model('efficientnet_b4', pretrained=False, num_classes=2)\n",
    "model.load_state_dict(torch.load(MODEL_PATH, map_location=DEVICE))\n",
    "model.to(DEVICE).eval()\n",
    "\n",
    "# Prediction function\n",
    "def predict_image(image_path):\n",
    "    img = Image.open(image_path).convert(\"RGB\")\n",
    "    img = transform(img).unsqueeze(0).to(DEVICE)\n",
    "    with torch.no_grad():\n",
    "        logits = model(img)\n",
    "        probs = torch.nn.functional.softmax(logits, dim=1)\n",
    "        ai_confidence = probs[0, 0].item()  # Confidence that the image is AI-generated\n",
    "    return ai_confidence\n",
    "\n",
    "# Example usage\n",
    "image_path = \"dog.jpg\"\n",
    "# image_path = \"aidog.jpeg\"\n",
    "ai_confidence = predict_image(image_path)\n",
    "print(f\"AI Confidence: {ai_confidence:.2f}\")\n"
   ]
  }
 ],
 "metadata": {
  "kernelspec": {
   "display_name": "venv",
   "language": "python",
   "name": "python3"
  },
  "language_info": {
   "codemirror_mode": {
    "name": "ipython",
    "version": 3
   },
   "file_extension": ".py",
   "mimetype": "text/x-python",
   "name": "python",
   "nbconvert_exporter": "python",
   "pygments_lexer": "ipython3",
   "version": "3.12.3"
  }
 },
 "nbformat": 4,
 "nbformat_minor": 2
}
