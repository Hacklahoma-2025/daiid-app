{
 "cells": [
  {
   "cell_type": "code",
   "execution_count": 49,
   "metadata": {},
   "outputs": [
    {
     "name": "stdout",
     "output_type": "stream",
     "text": [
      "Checking real images in ../test/images/real\n"
     ]
    },
    {
     "name": "stderr",
     "output_type": "stream",
     "text": [
      "Device set to use cuda:0\n"
     ]
    },
    {
     "name": "stdout",
     "output_type": "stream",
     "text": [
      "WIN_20250215_15_24_33_Pro.jpg: Confidence that it is AI generated: 0.00\n"
     ]
    },
    {
     "name": "stderr",
     "output_type": "stream",
     "text": [
      "Device set to use cuda:0\n"
     ]
    },
    {
     "name": "stdout",
     "output_type": "stream",
     "text": [
      "WIN_20250215_15_24_32_Pro.jpg: Confidence that it is AI generated: 0.01\n"
     ]
    },
    {
     "name": "stderr",
     "output_type": "stream",
     "text": [
      "Device set to use cuda:0\n"
     ]
    },
    {
     "name": "stdout",
     "output_type": "stream",
     "text": [
      "real_2.jpg: Confidence that it is AI generated: 0.37\n"
     ]
    },
    {
     "name": "stderr",
     "output_type": "stream",
     "text": [
      "Device set to use cuda:0\n"
     ]
    },
    {
     "name": "stdout",
     "output_type": "stream",
     "text": [
      "WIN_20250215_15_24_37_Pro.jpg: Confidence that it is AI generated: 0.00\n"
     ]
    },
    {
     "name": "stderr",
     "output_type": "stream",
     "text": [
      "Device set to use cuda:0\n"
     ]
    },
    {
     "name": "stdout",
     "output_type": "stream",
     "text": [
      "real_1.jpg: Confidence that it is AI generated: 0.38\n"
     ]
    },
    {
     "name": "stderr",
     "output_type": "stream",
     "text": [
      "Device set to use cuda:0\n"
     ]
    },
    {
     "name": "stdout",
     "output_type": "stream",
     "text": [
      "real_3.jpg: Confidence that it is AI generated: 0.10\n"
     ]
    },
    {
     "name": "stderr",
     "output_type": "stream",
     "text": [
      "Device set to use cuda:0\n"
     ]
    },
    {
     "name": "stdout",
     "output_type": "stream",
     "text": [
      "WIN_20250215_15_24_31_Pro.jpg: Confidence that it is AI generated: 0.01\n",
      "\n",
      "Checking fake images in ../test/images/fake\n"
     ]
    },
    {
     "name": "stderr",
     "output_type": "stream",
     "text": [
      "Device set to use cuda:0\n"
     ]
    },
    {
     "name": "stdout",
     "output_type": "stream",
     "text": [
      "image.png: Confidence that it is AI generated: 0.01\n"
     ]
    },
    {
     "name": "stderr",
     "output_type": "stream",
     "text": [
      "Device set to use cuda:0\n"
     ]
    },
    {
     "name": "stdout",
     "output_type": "stream",
     "text": [
      "image (2).png: Confidence that it is AI generated: 0.00\n"
     ]
    },
    {
     "name": "stderr",
     "output_type": "stream",
     "text": [
      "Device set to use cuda:0\n"
     ]
    },
    {
     "name": "stdout",
     "output_type": "stream",
     "text": [
      "image (1).png: Confidence that it is AI generated: 0.01\n"
     ]
    }
   ],
   "source": [
    "import os\n",
    "import image_prediction\n",
    "from importlib import reload\n",
    "reload(image_prediction)\n",
    "\n",
    "image_dir = '../test/images/real'\n",
    "print(f\"Checking real images in {image_dir}\")\n",
    "for filename in os.listdir(image_dir):\n",
    "    if filename.lower().endswith(('.png', '.jpg', '.jpeg')):\n",
    "        image_path = os.path.join(image_dir, filename)\n",
    "        confidence = image_prediction.is_image_AI_generated(image_path)\n",
    "        print(f\"{filename}: Confidence that it is AI generated: {confidence:.2f}\")\n",
    "\n",
    "print()\n",
    "\n",
    "image_dir = '../test/images/fake'\n",
    "print(f\"Checking fake images in {image_dir}\")\n",
    "for filename in os.listdir(image_dir):\n",
    "    if filename.lower().endswith(('.png', '.jpg', '.jpeg')):\n",
    "        image_path = os.path.join(image_dir, filename)\n",
    "        confidence = image_prediction.is_image_AI_generated(image_path)\n",
    "        print(f\"{filename}: Confidence that it is AI generated: {confidence:.2f}\")"
   ]
  }
 ],
 "metadata": {
  "kernelspec": {
   "display_name": "venv",
   "language": "python",
   "name": "python3"
  },
  "language_info": {
   "codemirror_mode": {
    "name": "ipython",
    "version": 3
   },
   "file_extension": ".py",
   "mimetype": "text/x-python",
   "name": "python",
   "nbconvert_exporter": "python",
   "pygments_lexer": "ipython3",
   "version": "3.12.3"
  }
 },
 "nbformat": 4,
 "nbformat_minor": 2
}
